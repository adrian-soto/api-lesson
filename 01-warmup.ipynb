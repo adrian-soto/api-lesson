{
 "cells": [
  {
   "cell_type": "markdown",
   "metadata": {},
   "source": [
    "# Warmup exercise\n",
    "Python is a general-purpose programming language. You can do all kinds of things with it, from building a website, to conducting a data analysis, to programming a robot. The purpose of this warmup exercise is to get you familiar with how to execute Python code in an interactive Jupyter Notebook in preparation for the case study. Let's go!"
   ]
  },
  {
   "cell_type": "markdown",
   "metadata": {},
   "source": [
    "### 1. Python is a calculator\n",
    "Yes, you can do all kinds of arithmetic with Python. Let's try a few examples."
   ]
  },
  {
   "cell_type": "code",
   "execution_count": null,
   "metadata": {},
   "outputs": [],
   "source": [
    "# Type \"3 + 4\" below and hit Shift+Enter\n"
   ]
  },
  {
   "cell_type": "code",
   "execution_count": null,
   "metadata": {},
   "outputs": [],
   "source": [
    "# Now execute \"7 * 3\"\n"
   ]
  },
  {
   "cell_type": "code",
   "execution_count": null,
   "metadata": {},
   "outputs": [],
   "source": [
    "# And now \"21 / 4\"\n"
   ]
  },
  {
   "cell_type": "markdown",
   "metadata": {},
   "source": [
    "Okay, well done! Now let's see an aspect that will be important in the case study\n",
    "\n",
    "### 2. Variables store values\n",
    "Let's repeat those operations but _assigning_ those values to variables."
   ]
  },
  {
   "cell_type": "code",
   "execution_count": 1,
   "metadata": {},
   "outputs": [],
   "source": [
    "# Type \"A = 3 + 4\" and execute the code with Shift+Enter\n"
   ]
  },
  {
   "cell_type": "markdown",
   "metadata": {},
   "source": [
    "Hmm, nothing happened... Maybe the value got stored in `A`?"
   ]
  },
  {
   "cell_type": "code",
   "execution_count": null,
   "metadata": {},
   "outputs": [],
   "source": [
    "# Type \"A\" and execute\n"
   ]
  },
  {
   "cell_type": "markdown",
   "metadata": {},
   "source": [
    "Ah-ha, there it is! The `=` operator assigns the value on the right to the variable on the left. Now that variable can e used over and over again."
   ]
  },
  {
   "cell_type": "code",
   "execution_count": null,
   "metadata": {},
   "outputs": [],
   "source": [
    "# Write \"A * A\" and execute\n"
   ]
  },
  {
   "cell_type": "code",
   "execution_count": 2,
   "metadata": {},
   "outputs": [],
   "source": [
    "# Write and the following three lines of code (each line without the quotes)\n",
    "# \"scratch = 3\"\n",
    "# \"B = A / scratch\"\n",
    "# \"B\"\n",
    "\n",
    "\n"
   ]
  },
  {
   "cell_type": "markdown",
   "metadata": {},
   "source": [
    "Look at you, writing code like a pro! The second line looks much like any line of sofware: a combination of variables and operators."
   ]
  },
  {
   "cell_type": "markdown",
   "metadata": {},
   "source": [
    "### 3. (Some) variables have built-in functionality\n",
    "\n",
    "As it turns out, objects (or variables) can have internal functionality. Let's see an example. First let's create a _list_ with some friend names."
   ]
  },
  {
   "cell_type": "code",
   "execution_count": 19,
   "metadata": {},
   "outputs": [
    {
     "data": {
      "text/plain": [
       "['Deborah', 'Abdullah', 'Piotr', 'Emma']"
      ]
     },
     "execution_count": 19,
     "metadata": {},
     "output_type": "execute_result"
    }
   ],
   "source": [
    "# Create list with names\n",
    "friends = [\"Deborah\", \"Abdullah\", \"Piotr\", \"Emma\"]\n",
    "\n",
    "# Show the list\n",
    "friends"
   ]
  },
  {
   "cell_type": "markdown",
   "metadata": {},
   "source": [
    "Beautiful. As you can see, this list is not alphabetically sorted. Fortunately lists have a built-in `sort()` method that will sort your list in ascending order. Let's _call_ that method and see what happens."
   ]
  },
  {
   "cell_type": "code",
   "execution_count": 20,
   "metadata": {},
   "outputs": [
    {
     "data": {
      "text/plain": [
       "['Abdullah', 'Deborah', 'Emma', 'Piotr']"
      ]
     },
     "execution_count": 20,
     "metadata": {},
     "output_type": "execute_result"
    }
   ],
   "source": [
    "# Call the sort method\n",
    "friends.sort()\n",
    "\n",
    "# Show the list\n",
    "friends"
   ]
  },
  {
   "cell_type": "markdown",
   "metadata": {},
   "source": [
    "Look at that! Notice how the `.` allows you to access the built-in elements in the list `friends`. This will be very useful when working with APIs.\n",
    "\n",
    "To close, let's practice one more example. Sadly, Deborah has moved out of town for a new job in the beautiful state of Arizona. So let's remove her from the list using the `remove()` method."
   ]
  },
  {
   "cell_type": "code",
   "execution_count": 21,
   "metadata": {},
   "outputs": [
    {
     "data": {
      "text/plain": [
       "['Abdullah', 'Emma', 'Piotr']"
      ]
     },
     "execution_count": 21,
     "metadata": {},
     "output_type": "execute_result"
    }
   ],
   "source": [
    "# Remove \"Deborah\" from the list\n",
    "friends.remove(\"Deborah\")\n",
    "\n",
    "# Show the list\n",
    "friends"
   ]
  },
  {
   "cell_type": "markdown",
   "metadata": {},
   "source": [
    "Bye Deborah, we'll miss you!"
   ]
  },
  {
   "cell_type": "markdown",
   "metadata": {},
   "source": [
    "## Summary\n",
    "In this warm-up exercise you've learned to\n",
    "- use Ctrl+Enter (or Shift+Enter) to execute cells with Python code\n",
    "- use Python as a calculator\n",
    "- define variables\n",
    "- use variable's `.` accessor to execute built-in methods to modify those variables\n",
    "\n",
    "In this warmup you're only scratching the surface of what Python can do. Now that you're familiar with a few of the most important building blocks, it's time to move to the API activity."
   ]
  }
 ],
 "metadata": {
  "kernelspec": {
   "display_name": "Python 3",
   "language": "python",
   "name": "python3"
  },
  "language_info": {
   "codemirror_mode": {
    "name": "ipython",
    "version": 3
   },
   "file_extension": ".py",
   "mimetype": "text/x-python",
   "name": "python",
   "nbconvert_exporter": "python",
   "pygments_lexer": "ipython3",
   "version": "3.6.8"
  }
 },
 "nbformat": 4,
 "nbformat_minor": 2
}
