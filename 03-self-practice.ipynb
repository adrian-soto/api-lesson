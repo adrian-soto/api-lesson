{
 "cells": [
  {
   "cell_type": "markdown",
   "metadata": {},
   "source": [
    "# Running your own API queries\n",
    "\n",
    "This notebook is designed to give you a template where you can start to execute your own queries to the Yelp API. As an example, you will request all high-end (`$$$` and `$$$$`) restaurants in Newark, NJ.\n",
    "\n",
    "Before starting, two important remarks:\n",
    "- The Yelp API allows a maximum of 5000 free requests per day, per user.\n",
    "- If you're using the `/businesses/search` endpoint, you'll have a limit of 50 entries per response. If you use other endpoints, please check the [Yelp API documentation](https://www.yelp.com/developers/documentation/v3) to find out.\n",
    "\n",
    "In this notebook you'll have a chance to edit your request parameters to fit your needs. You'll also learn to run a sequence of requests and accumulate all of their response data together. \n",
    "\n",
    "Ready?"
   ]
  },
  {
   "cell_type": "markdown",
   "metadata": {},
   "source": [
    "### Import packages"
   ]
  },
  {
   "cell_type": "code",
   "execution_count": null,
   "metadata": {},
   "outputs": [],
   "source": [
    "import pandas as pd\n",
    "import requests"
   ]
  },
  {
   "cell_type": "markdown",
   "metadata": {},
   "source": [
    "### Yelp API Key setup"
   ]
  },
  {
   "cell_type": "code",
   "execution_count": null,
   "metadata": {},
   "outputs": [],
   "source": [
    "API_KEY = \"PASTE-YOUR-API-KEY-INSIDE-THESE-QUOTATION-MARKS\""
   ]
  },
  {
   "cell_type": "markdown",
   "metadata": {},
   "source": [
    "### Request setup\n",
    "Start setting up the base URL and the headers of your request"
   ]
  },
  {
   "cell_type": "code",
   "execution_count": null,
   "metadata": {},
   "outputs": [],
   "source": [
    "# Define the base URL for the request\n",
    "base_url = \"https://api.yelp.com/v3/businesses/search\"\n",
    "\n",
    "# Set up the request headers -- API key is used here\n",
    "headers = {\"Authorization\": \"Bearer \" + API_KEY}"
   ]
  },
  {
   "cell_type": "markdown",
   "metadata": {},
   "source": [
    "Now define the request parameters"
   ]
  },
  {
   "cell_type": "code",
   "execution_count": null,
   "metadata": {},
   "outputs": [],
   "source": [
    "# Define the request parameters\n",
    "\n",
    "# 50 is the max number of entries a single Yelp request on the businesses/search endpoint \n",
    "# can return. Change to 50 once you're confident that your query is correct!\n",
    "\n",
    "REQUEST_LENGTH = 5  \n",
    "\n",
    "params = {\n",
    "    \"location\": \"Newark, NJ\",\n",
    "    \"term\": \"restaurant\",\n",
    "    \"price\": \"3, 4\",  # 3 corresponds to $$$, and 4 to $$$$\n",
    "    \"limit\": REQUEST_LENGTH,\n",
    "    \"offset\": 0\n",
    "} "
   ]
  },
  {
   "cell_type": "markdown",
   "metadata": {},
   "source": [
    "Now execute the request, saving the response in a variable called `response`."
   ]
  },
  {
   "cell_type": "code",
   "execution_count": null,
   "metadata": {},
   "outputs": [],
   "source": [
    "# Execute request\n",
    "response = requests.get(\n",
    "    base_url,\n",
    "    headers=headers,\n",
    "    params=params\n",
    ")\n",
    "    \n",
    "# Extract data as a pandas dataframe\n",
    "data_dict = response.json()\n",
    "data_df = pd.DataFrame(data_dict[\"businesses\"])"
   ]
  },
  {
   "cell_type": "code",
   "execution_count": null,
   "metadata": {},
   "outputs": [],
   "source": [
    "# Inspect the data\n",
    "\n",
    "print(\"The total number of entries for this search is \", data_dict[\"total\"])"
   ]
  },
  {
   "cell_type": "code",
   "execution_count": null,
   "metadata": {},
   "outputs": [],
   "source": [
    "# Show the downloaded data in tabular format\n",
    "data_df"
   ]
  },
  {
   "cell_type": "markdown",
   "metadata": {},
   "source": [
    "### Make a sequence of requests\n",
    "\n",
    "It is very possible that the amount of data in one single request is not enough for your project. But now that you've fine-tuned your request parameters above to obtain the information you want, check that the above data look alright. Are you getting results that make sense? \n",
    "\n",
    "If so, here's what you're going do do next:\n",
    "- you're going to execute a sequence of API requests\n",
    "- with each response, you'll extract the data and append it to the previous chunk\n",
    "- once you've exhausted your API daily limit, or the total number of entries in the search, the code will stop\n",
    "This setup will give you a chance to run queries returning more entries than the request limit.\n",
    "\n",
    "_Note: the logic in the next cell is a bit more complex that what we've seen so far. Don't worry if you don't understand it fully, focus on the results and revisit the code and the comments later!_"
   ]
  },
  {
   "cell_type": "code",
   "execution_count": null,
   "metadata": {},
   "outputs": [],
   "source": [
    "# Reset the request length to the maximum allowed by Yelp\n",
    "REQUEST_LENGTH = 50\n",
    "params[\"limit\"] = REQUEST_LENGTH\n",
    "\n",
    "# Initialize loop variables\n",
    "offset = 0\n",
    "\n",
    "while True:\n",
    "    \n",
    "    # Request data\n",
    "    response = requests.get(\n",
    "        base_url,\n",
    "        headers=headers,\n",
    "        params=params\n",
    "    )\n",
    "    \n",
    "    \n",
    "    # Extract data in JSON format\n",
    "    data_dict = response.json()\n",
    "    \n",
    "    # Print out total number or entries to retrieve\n",
    "    if offset == 0:\n",
    "        print(\"Running a query on {num_entries} entries...\".format(num_entries=data_dict[\"total\"]))\n",
    "    \n",
    "    # Check if this is the first request in the sequence\n",
    "    if offset == 0:\n",
    "        # First request, so create dataframe\n",
    "        data_df = pd.DataFrame(data_dict[\"businesses\"])\n",
    "    else:\n",
    "        # Second or later request, so append data to existing dataframe\n",
    "        data_df = data_df.append(pd.DataFrame(data_dict[\"businesses\"]))\n",
    "\n",
    "    # If not entries have yet been retrieved\n",
    "    if data_dict[\"total\"] > offset + REQUEST_LENGTH:\n",
    "        # Update the offset parameter\n",
    "        offset = offset + REQUEST_LENGTH\n",
    "        params[\"offset\"] = offset\n",
    "        \n",
    "    else:\n",
    "        # All entries retrieved, exit loop\n",
    "        print(\"Query completed!\")\n",
    "        break\n",
    "\n",
    "\n",
    "# Reset the dataframe index so it runs sequentially from 0 to the number of entries\n",
    "data_df = data_df.reset_index(drop=True)"
   ]
  },
  {
   "cell_type": "code",
   "execution_count": null,
   "metadata": {},
   "outputs": [],
   "source": [
    "# Display the queried data\n",
    "data_df"
   ]
  },
  {
   "cell_type": "markdown",
   "metadata": {},
   "source": [
    "Extract the coordinates as longitude and latitude columns."
   ]
  },
  {
   "cell_type": "code",
   "execution_count": null,
   "metadata": {},
   "outputs": [],
   "source": [
    "# Extract latitude and longitude into new columns\n",
    "data_df[\"latitude\"] = data_df[\"coordinates\"].apply(lambda x: x[\"latitude\"])\n",
    "data_df[\"longitude\"] = data_df[\"coordinates\"].apply(lambda x: x[\"longitude\"])\n",
    "\n",
    "# # An alternative, more generic way of achieving the same thing\n",
    "# data_df = pd.concat([data_df, data_df[\"coordinates\"].apply(pd.Series)], axis=1)\n",
    "\n",
    "# Inspect transformed dataframe\n",
    "data_df"
   ]
  },
  {
   "cell_type": "markdown",
   "metadata": {},
   "source": [
    "Save this dataframe as a CSV"
   ]
  },
  {
   "cell_type": "code",
   "execution_count": null,
   "metadata": {},
   "outputs": [],
   "source": [
    "# Save requested data as a CSV\n",
    "data_df.to_csv(\"./my_requested_data.csv\", index=False)  # index=False is used to avoid writing the row index in the file"
   ]
  },
  {
   "cell_type": "markdown",
   "metadata": {},
   "source": [
    "Verify the CSV contents"
   ]
  },
  {
   "cell_type": "code",
   "execution_count": null,
   "metadata": {},
   "outputs": [],
   "source": [
    "# Print created CSV to screen\n",
    "!cat ./my_requested_data.csv"
   ]
  },
  {
   "cell_type": "markdown",
   "metadata": {},
   "source": [
    "Now that you've seen how this operates, go up to the cell where the `base_url` and `params` are defined and make any changes you need for your questions or projects. Good luck!"
   ]
  }
 ],
 "metadata": {
  "kernelspec": {
   "display_name": "Python 3",
   "language": "python",
   "name": "python3"
  },
  "language_info": {
   "codemirror_mode": {
    "name": "ipython",
    "version": 3
   },
   "file_extension": ".py",
   "mimetype": "text/x-python",
   "name": "python",
   "nbconvert_exporter": "python",
   "pygments_lexer": "ipython3",
   "version": "3.8.0"
  }
 },
 "nbformat": 4,
 "nbformat_minor": 2
}
